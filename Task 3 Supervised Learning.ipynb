{
 "cells": [
  {
   "cell_type": "markdown",
   "metadata": {},
   "source": [
    "Imports"
   ]
  },
  {
   "cell_type": "code",
   "execution_count": 95,
   "metadata": {},
   "outputs": [],
   "source": [
    "import numpy as np\n",
    "import pandas as pd\n",
    "#import matplotlib.pyplot as plt"
   ]
  },
  {
   "cell_type": "markdown",
   "metadata": {},
   "source": [
    "Load dataset"
   ]
  },
  {
   "cell_type": "code",
   "execution_count": 96,
   "metadata": {},
   "outputs": [],
   "source": [
    "final_covid_dataframe = pd.read_csv(\"us_covid_dataset_final.csv\")"
   ]
  },
  {
   "cell_type": "markdown",
   "metadata": {},
   "source": [
    "Create the input matrix and the output vector. "
   ]
  },
  {
   "cell_type": "code",
   "execution_count": 97,
   "metadata": {},
   "outputs": [],
   "source": [
    "X = final_covid_dataframe.iloc[:, 7:30]\n",
    "#hospitalized_new\n",
    "y = final_covid_dataframe.iloc[:, 31]"
   ]
  },
  {
   "cell_type": "markdown",
   "metadata": {},
   "source": [
    "Split the data into train and validation sets using two strategies – based on regions and based on time."
   ]
  },
  {
   "cell_type": "code",
   "execution_count": 98,
   "metadata": {},
   "outputs": [],
   "source": [
    "#split based on regions\n",
    "\n",
    "x_train_r1, y_train_r1 = X.iloc[60: , :], y[60: ]\n",
    "x_test_r1, y_test_r1 = X.iloc[0:60, :], y[0:60]\n",
    "\n",
    "x_train_r2, y_train_r2 = X.iloc[0:60, :].append(X.iloc[120: , :]), y[0:60].append(y[120: ])\n",
    "x_test_r2, y_test_r2 = X.iloc[60:120, :], y[60:120]\n",
    "\n",
    "x_train_r3, y_train_r3 = X.iloc[0:120, :].append(X.iloc[180: , :]), y[0:120].append(y[180: ])\n",
    "x_test_r3, y_test_r3 = X.iloc[120:180, :], y[120:180]\n",
    "\n",
    "x_train_r4, y_train_r4 = X.iloc[0:180, :].append(X.iloc[240: , :]), y[0:180].append(y[240: ])\n",
    "x_test_r4, y_test_r4 = X.iloc[180:240, :], y[180:240]\n",
    "\n",
    "x_train_r5, y_train_r5 = X.iloc[0:240, :].append(X.iloc[300: , :]), y[0:240].append(y[300: ])\n",
    "x_test_r5, y_test_r5 = X.iloc[240:300, :], y[240:300]\n",
    "\n",
    "#split based on time\n",
    "\n",
    "dates = final_covid_dataframe.iloc[:, 6]\n",
    "import time\n",
    "date1 = \"2020-08-10\"\n",
    "date_split = time.strptime(date1, \"%Y-%m-%d\")\n",
    "\n",
    "x_train_time, y_train_time = [], []\n",
    "x_test_time, y_test_time = [], []\n",
    "\n",
    "for i in range(dates.size):\n",
    "    d = dates[i]\n",
    "    date_comp = time.strptime(d, \"%Y-%m-%d\") \n",
    "    \n",
    "    if date_comp <= date_split :\n",
    "        x_train_time.append(X.iloc[i, :])\n",
    "        y_train_time.append(y[i])\n",
    "    \n",
    "    if date_comp > date_split :\n",
    "        x_test_time.append(X.iloc[i, :])\n",
    "        y_test_time.append(y[i])"
   ]
  },
  {
   "cell_type": "markdown",
   "metadata": {},
   "source": [
    "KNN"
   ]
  },
  {
   "cell_type": "code",
   "execution_count": 99,
   "metadata": {},
   "outputs": [],
   "source": [
    "from sklearn.neighbors import KNeighborsRegressor\n",
    "\n",
    "#y_knn_r1, y_knn_r2, y_knn_r3, y_knn_r4, y_knn_r5, y_knn_time\n",
    "\n",
    "neigh = KNeighborsRegressor(n_neighbors=2) #choose k\n",
    "\n",
    "neigh.fit(x_train_r1, y_train_r1)\n",
    "y_knn_r1 = neigh.predict(x_test_r1)\n",
    "\n",
    "neigh.fit(x_train_r2, y_train_r2)\n",
    "y_knn_r2 = neigh.predict(x_test_r2)\n",
    "\n",
    "neigh.fit(x_train_r3, y_train_r3)\n",
    "y_knn_r3 = neigh.predict(x_test_r3)\n",
    "\n",
    "neigh.fit(x_train_r4, y_train_r4)\n",
    "y_knn_r4 = neigh.predict(x_test_r4)\n",
    "\n",
    "neigh.fit(x_train_r5, y_train_r5)\n",
    "y_knn_r5 = neigh.predict(x_test_r5)\n",
    "\n",
    "neigh.fit(x_train_time, y_train_time)\n",
    "y_knn_time = neigh.predict(x_test_time)"
   ]
  },
  {
   "cell_type": "markdown",
   "metadata": {},
   "source": [
    "Decision tree"
   ]
  },
  {
   "cell_type": "code",
   "execution_count": 100,
   "metadata": {},
   "outputs": [],
   "source": [
    "from sklearn import tree\n",
    "\n",
    "#y_dt_r1, y_dt_r2, y_dt_r3, y_dt_r4, y_dt_r5, y_dt_time\n",
    "\n",
    "clf = tree.DecisionTreeRegressor()\n",
    "\n",
    "clf = clf.fit(x_train_r1, y_train_r1)\n",
    "y_dt_r1 = clf.predict(x_test_r1)\n",
    "\n",
    "clf = clf.fit(x_train_r2, y_train_r2)\n",
    "y_dt_r2 = clf.predict(x_test_r2)\n",
    "\n",
    "clf = clf.fit(x_train_r3, y_train_r3)\n",
    "y_dt_r3 = clf.predict(x_test_r3)\n",
    "\n",
    "clf = clf.fit(x_train_r4, y_train_r4)\n",
    "y_dt_r4 = clf.predict(x_test_r4)\n",
    "\n",
    "clf = clf.fit(x_train_r5, y_train_r5)\n",
    "y_dt_r5 = clf.predict(x_test_r5)\n",
    "\n",
    "clf = clf.fit(x_train_time, y_train_time)\n",
    "y_dt_time = clf.predict(x_test_time)"
   ]
  },
  {
   "cell_type": "markdown",
   "metadata": {},
   "source": [
    "Compare the regression performance of KNNs and decision trees for each of the train-validation split strategies."
   ]
  },
  {
   "cell_type": "code",
   "execution_count": 101,
   "metadata": {},
   "outputs": [],
   "source": [
    "#Mean Absolute Error\n",
    "\n",
    "from sklearn.metrics import mean_absolute_error\n",
    "\n",
    "mae_knn_time = mean_absolute_error(y_test_time, y_knn_time)\n",
    "mae_dt_time = mean_absolute_error(y_test_time, y_dt_time)\n",
    "\n",
    "mae_knn_r1 = mean_absolute_error(y_test_r1, y_knn_r1)\n",
    "mae_dt_r1 = mean_absolute_error(y_test_r1, y_dt_r1)\n",
    "\n",
    "mae_knn_r2 = mean_absolute_error(y_test_r2, y_knn_r2)\n",
    "mae_dt_r2 = mean_absolute_error(y_test_r2, y_dt_r2)\n",
    "\n",
    "mae_knn_r3 = mean_absolute_error(y_test_r3, y_knn_r3)\n",
    "mae_dt_r3 = mean_absolute_error(y_test_r3, y_dt_r3)\n",
    "\n",
    "mae_knn_r4 = mean_absolute_error(y_test_r4, y_knn_r4)\n",
    "mae_dt_r4 = mean_absolute_error(y_test_r4, y_dt_r4)\n",
    "\n",
    "mae_knn_r5 = mean_absolute_error(y_test_r5, y_knn_r5)\n",
    "mae_dt_r5 = mean_absolute_error(y_test_r5, y_dt_r5)\n",
    "\n",
    "#Root Mean Squared Error\n",
    "\n",
    "from sklearn.metrics import mean_squared_error\n",
    "from math import sqrt\n",
    "\n",
    "rms_knn_time = sqrt(mean_squared_error(y_test_time, y_knn_time))\n",
    "rms_dt_time = sqrt(mean_squared_error(y_test_time, y_dt_time))\n",
    "\n",
    "rms_knn_r1 = sqrt(mean_squared_error(y_test_r1, y_knn_r1))\n",
    "rms_dt_r1 = sqrt(mean_squared_error(y_test_r1, y_dt_r1))\n",
    "\n",
    "rms_knn_r2 = sqrt(mean_squared_error(y_test_r2, y_knn_r2))\n",
    "rms_dt_r2 = sqrt(mean_squared_error(y_test_r2, y_dt_r2))\n",
    "\n",
    "rms_knn_r3 = sqrt(mean_squared_error(y_test_r3, y_knn_r3))\n",
    "rms_dt_r3 = sqrt(mean_squared_error(y_test_r3, y_dt_r3))\n",
    "\n",
    "rms_knn_r4 = sqrt(mean_squared_error(y_test_r4, y_knn_r4))\n",
    "rms_dt_r4 = sqrt(mean_squared_error(y_test_r4, y_dt_r4))\n",
    "\n",
    "rms_knn_r5 = sqrt(mean_squared_error(y_test_r5, y_knn_r5))\n",
    "rms_dt_r5 = sqrt(mean_squared_error(y_test_r5, y_dt_r5))"
   ]
  }
 ],
 "metadata": {
  "kernelspec": {
   "display_name": "Python 3",
   "language": "python",
   "name": "python3"
  },
  "language_info": {
   "codemirror_mode": {
    "name": "ipython",
    "version": 3
   },
   "file_extension": ".py",
   "mimetype": "text/x-python",
   "name": "python",
   "nbconvert_exporter": "python",
   "pygments_lexer": "ipython3",
   "version": "3.8.3"
  }
 },
 "nbformat": 4,
 "nbformat_minor": 4
}
